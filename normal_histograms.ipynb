{
 "cells": [
  {
   "cell_type": "code",
   "execution_count": 1,
   "metadata": {},
   "outputs": [],
   "source": [
    "import numpy as np\n",
    "import pandas as pd\n",
    "from sklearn import preprocessing\n",
    "import glob\n",
    "import csv"
   ]
  },
  {
   "cell_type": "code",
   "execution_count": 2,
   "metadata": {},
   "outputs": [],
   "source": [
    "mouse = pd.read_csv(\"combined_data/Mouse.csv\", header=None, sep = \",\")\n",
    "rectangle = pd.read_csv(\"combined_data/Rectangle.csv\", header=None, sep = \",\")\n",
    "square = pd.read_csv(\"combined_data/Square.csv\", header=None, sep = \",\")\n",
    "tape = pd.read_csv(\"combined_data/Tape.csv\", header=None, sep = \",\")\n",
    "gripperball = pd.read_csv(\"combined_data/GripperBall.csv\", header=None, sep = \",\")"
   ]
  },
  {
   "cell_type": "code",
   "execution_count": 3,
   "metadata": {},
   "outputs": [],
   "source": [
    "def normalize(df):\n",
    "    column_names_to_normalize = [0,1,2,3,4]\n",
    "    x = df[column_names_to_normalize].astype(float)\n",
    "    minmax_scaler = preprocessing.MinMaxScaler(feature_range=(0,1))\n",
    "    x_scaled = min_max_scaler.fit_transform(x)\n",
    "    df_temp = pd.DataFrame(x_scaled, columns=column_names_to_normalize, index = df.index)\n",
    "    return df_temp"
   ]
  },
  {
   "cell_type": "code",
   "execution_count": 4,
   "metadata": {},
   "outputs": [],
   "source": [
    "min_max_scaler = preprocessing.MinMaxScaler()\n",
    "mouse1 = normalize(mouse)\n",
    "rectangle1 = normalize(rectangle)\n",
    "square1 = normalize(square)\n",
    "tape1 = normalize(tape)\n",
    "gripperball1 = normalize(gripperball)"
   ]
  },
  {
   "cell_type": "code",
   "execution_count": 5,
   "metadata": {},
   "outputs": [
    {
     "data": {
      "text/html": [
       "<div>\n",
       "<style scoped>\n",
       "    .dataframe tbody tr th:only-of-type {\n",
       "        vertical-align: middle;\n",
       "    }\n",
       "\n",
       "    .dataframe tbody tr th {\n",
       "        vertical-align: top;\n",
       "    }\n",
       "\n",
       "    .dataframe thead th {\n",
       "        text-align: right;\n",
       "    }\n",
       "</style>\n",
       "<table border=\"1\" class=\"dataframe\">\n",
       "  <thead>\n",
       "    <tr style=\"text-align: right;\">\n",
       "      <th></th>\n",
       "      <th>0</th>\n",
       "      <th>1</th>\n",
       "      <th>2</th>\n",
       "      <th>3</th>\n",
       "      <th>4</th>\n",
       "    </tr>\n",
       "  </thead>\n",
       "  <tbody>\n",
       "    <tr>\n",
       "      <th>0</th>\n",
       "      <td>0.806041</td>\n",
       "      <td>0.936202</td>\n",
       "      <td>0.967901</td>\n",
       "      <td>0.954064</td>\n",
       "      <td>0.872549</td>\n",
       "    </tr>\n",
       "    <tr>\n",
       "      <th>1</th>\n",
       "      <td>0.809221</td>\n",
       "      <td>0.921365</td>\n",
       "      <td>0.646914</td>\n",
       "      <td>0.954064</td>\n",
       "      <td>0.877451</td>\n",
       "    </tr>\n",
       "    <tr>\n",
       "      <th>2</th>\n",
       "      <td>0.807631</td>\n",
       "      <td>0.931751</td>\n",
       "      <td>0.871605</td>\n",
       "      <td>0.957597</td>\n",
       "      <td>0.882353</td>\n",
       "    </tr>\n",
       "    <tr>\n",
       "      <th>3</th>\n",
       "      <td>0.807631</td>\n",
       "      <td>0.933234</td>\n",
       "      <td>0.916049</td>\n",
       "      <td>0.957597</td>\n",
       "      <td>0.892157</td>\n",
       "    </tr>\n",
       "    <tr>\n",
       "      <th>4</th>\n",
       "      <td>0.815580</td>\n",
       "      <td>0.936202</td>\n",
       "      <td>0.975309</td>\n",
       "      <td>0.954064</td>\n",
       "      <td>0.901961</td>\n",
       "    </tr>\n",
       "  </tbody>\n",
       "</table>\n",
       "</div>"
      ],
      "text/plain": [
       "          0         1         2         3         4\n",
       "0  0.806041  0.936202  0.967901  0.954064  0.872549\n",
       "1  0.809221  0.921365  0.646914  0.954064  0.877451\n",
       "2  0.807631  0.931751  0.871605  0.957597  0.882353\n",
       "3  0.807631  0.933234  0.916049  0.957597  0.892157\n",
       "4  0.815580  0.936202  0.975309  0.954064  0.901961"
      ]
     },
     "execution_count": 5,
     "metadata": {},
     "output_type": "execute_result"
    }
   ],
   "source": [
    "# min_max_scaler = preprocessing.MinMaxScaler()\n",
    "# for i in range(0,5):\n",
    "#     a = mouse[[i]]\n",
    "#     b = rectangle[[i]]\n",
    "#     c = square[[i]]\n",
    "#     d = tape[[i]]\n",
    "#     mouse[[i]] = min_max_scaler.fit_transform(a)\n",
    "#     rectangle[[i]] = min_max_scaler.fit_transform(a)\n",
    "#     square[[i]] = min_max_scaler.fit_transform(a)\n",
    "#     tape[[i]] = min_max_scaler.fit_transform(a)\n",
    "mouse1.to_csv(\"combined/Mouse1.csv\", sep=',', index = False)\n",
    "rectangle1.to_csv(\"combined/Rectangle1.csv\", sep=',', index = False)\n",
    "square1.to_csv(\"combined/Square1.csv\", sep=',', index = False)\n",
    "tape1.to_csv(\"combined/Tape1.csv\", sep=',', index = False)\n",
    "gripperball1.to_csv(\"combined/GripperBall1.csv\", sep=',', index = False)\n",
    "mouse1.head()"
   ]
  },
  {
   "cell_type": "code",
   "execution_count": 6,
   "metadata": {},
   "outputs": [
    {
     "data": {
      "text/html": [
       "<div>\n",
       "<style scoped>\n",
       "    .dataframe tbody tr th:only-of-type {\n",
       "        vertical-align: middle;\n",
       "    }\n",
       "\n",
       "    .dataframe tbody tr th {\n",
       "        vertical-align: top;\n",
       "    }\n",
       "\n",
       "    .dataframe thead th {\n",
       "        text-align: right;\n",
       "    }\n",
       "</style>\n",
       "<table border=\"1\" class=\"dataframe\">\n",
       "  <thead>\n",
       "    <tr style=\"text-align: right;\">\n",
       "      <th></th>\n",
       "      <th>0</th>\n",
       "      <th>1</th>\n",
       "      <th>2</th>\n",
       "      <th>3</th>\n",
       "      <th>4</th>\n",
       "    </tr>\n",
       "  </thead>\n",
       "  <tbody>\n",
       "    <tr>\n",
       "      <th>2044</th>\n",
       "      <td>0.947536</td>\n",
       "      <td>0.767062</td>\n",
       "      <td>0.701235</td>\n",
       "      <td>0.840989</td>\n",
       "      <td>0.887255</td>\n",
       "    </tr>\n",
       "    <tr>\n",
       "      <th>2045</th>\n",
       "      <td>0.949126</td>\n",
       "      <td>0.869436</td>\n",
       "      <td>0.703704</td>\n",
       "      <td>0.848057</td>\n",
       "      <td>0.882353</td>\n",
       "    </tr>\n",
       "    <tr>\n",
       "      <th>2046</th>\n",
       "      <td>0.952305</td>\n",
       "      <td>0.774481</td>\n",
       "      <td>0.720988</td>\n",
       "      <td>0.851590</td>\n",
       "      <td>0.892157</td>\n",
       "    </tr>\n",
       "    <tr>\n",
       "      <th>2047</th>\n",
       "      <td>0.953895</td>\n",
       "      <td>0.896142</td>\n",
       "      <td>0.748148</td>\n",
       "      <td>0.823322</td>\n",
       "      <td>0.906863</td>\n",
       "    </tr>\n",
       "    <tr>\n",
       "      <th>2048</th>\n",
       "      <td>0.953895</td>\n",
       "      <td>0.900593</td>\n",
       "      <td>0.767901</td>\n",
       "      <td>0.795053</td>\n",
       "      <td>0.911765</td>\n",
       "    </tr>\n",
       "  </tbody>\n",
       "</table>\n",
       "</div>"
      ],
      "text/plain": [
       "             0         1         2         3         4\n",
       "2044  0.947536  0.767062  0.701235  0.840989  0.887255\n",
       "2045  0.949126  0.869436  0.703704  0.848057  0.882353\n",
       "2046  0.952305  0.774481  0.720988  0.851590  0.892157\n",
       "2047  0.953895  0.896142  0.748148  0.823322  0.906863\n",
       "2048  0.953895  0.900593  0.767901  0.795053  0.911765"
      ]
     },
     "execution_count": 6,
     "metadata": {},
     "output_type": "execute_result"
    }
   ],
   "source": [
    "mouse1.tail()"
   ]
  },
  {
   "cell_type": "code",
   "execution_count": 9,
   "metadata": {},
   "outputs": [
    {
     "data": {
      "text/plain": [
       "10245"
      ]
     },
     "execution_count": 9,
     "metadata": {},
     "output_type": "execute_result"
    }
   ],
   "source": [
    "ls1 = []\n",
    "ls2 = []\n",
    "ls3 = []\n",
    "ls4 = []\n",
    "ls5 = []\n",
    "for i in range(0,5):\n",
    "    ls1 = ls1 + list(mouse1[i].values) #+ mouse1[1].values\n",
    "    ls2 = ls2 + list(rectangle1[i].values)\n",
    "    ls3 = ls3 + list(square1[i].values)\n",
    "    ls4 = ls4 + list(tape1[i].values)\n",
    "    ls5 = ls5 + list(gripperball1[i].values)\n",
    "len(ls1)"
   ]
  },
  {
   "cell_type": "code",
   "execution_count": 10,
   "metadata": {},
   "outputs": [
    {
     "data": {
      "text/plain": [
       "array([[<matplotlib.axes._subplots.AxesSubplot object at 0x0000026D9C947A20>]],\n",
       "      dtype=object)"
      ]
     },
     "execution_count": 10,
     "metadata": {},
     "output_type": "execute_result"
    },
    {
     "data": {
      "image/png": "[encoded data removed]",
      "text/plain": [
       "<matplotlib.figure.Figure at 0x26d9c97f748>"
      ]
     },
     "metadata": {},
     "output_type": "display_data"
    },
    {
     "data": {
      "image/png": "[encoded data removed]",
      "text/plain": [
       "<matplotlib.figure.Figure at 0x26d9c88cda0>"
      ]
     },
     "metadata": {},
     "output_type": "display_data"
    },
    {
     "data": {
      "image/png": "[encoded data removed]",
      "text/plain": [
       "<matplotlib.figure.Figure at 0x26d9c8a5e80>"
      ]
     },
     "metadata": {},
     "output_type": "display_data"
    },
    {
     "data": {
      "image/png": "[encoded data removed]",
      "text/plain": [
       "<matplotlib.figure.Figure at 0x26d9c8f4dd8>"
      ]
     },
     "metadata": {},
     "output_type": "display_data"
    },
    {
     "data": {
      "image/png": "[encoded data removed]",
      "text/plain": [
       "<matplotlib.figure.Figure at 0x26d9c9479e8>"
      ]
     },
     "metadata": {},
     "output_type": "display_data"
    }
   ],
   "source": [
    "import pylab as pl \n",
    "from pandas import *\n",
    "ls1 = pd.DataFrame(ls1)\n",
    "ls2 = pd.DataFrame(ls2)\n",
    "ls3 = pd.DataFrame(ls3)\n",
    "ls4 = pd.DataFrame(ls4)\n",
    "ls5 = pd.DataFrame(ls5)\n",
    "ls1.hist()\n",
    "ls1=pl.suptitle(\"Mouse\")\n",
    "ls2.hist()\n",
    "ls3.hist()\n",
    "ls4.hist()\n",
    "ls5.hist()"
   ]
  },
  {
   "cell_type": "code",
   "execution_count": 13,
   "metadata": {},
   "outputs": [],
   "source": []
  }
 ],
 "metadata": {
  "kernelspec": {
   "display_name": "Python 3",
   "language": "python",
   "name": "python3"
  },
  "language_info": {
   "codemirror_mode": {
    "name": "ipython",
    "version": 3
   },
   "file_extension": ".py",
   "mimetype": "text/x-python",
   "name": "python",
   "nbconvert_exporter": "python",
   "pygments_lexer": "ipython3",
   "version": "3.6.4"
  }
 },
 "nbformat": 4,
 "nbformat_minor": 2
}
